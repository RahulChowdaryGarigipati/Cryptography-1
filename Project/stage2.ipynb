{
 "cells": [
  {
   "cell_type": "code",
   "execution_count": 60,
   "metadata": {},
   "outputs": [],
   "source": [
    "## implementation of CBC mode with testing metrics like key size, IV size, block size, and different encryption algorithms.\n",
    "\n",
    "import os\n",
    "import sys\n",
    "import base64\n",
    "import hashlib\n",
    "import binascii\n",
    "import Crypto\n",
    "\n",
    "from Crypto.Cipher import AES\n",
    "from Crypto import Random"
   ]
  },
  {
   "cell_type": "code",
   "execution_count": 61,
   "metadata": {},
   "outputs": [],
   "source": [
    "# enter the message to be encrypted.\n",
    "\n",
    "message = input(\"Enter the message to be encrypted: \")\n",
    "\n",
    "# generate a random key for AES encryption, key size is 256 bits (32 bytes).\n",
    "\n",
    "key = Random.new().read(32)\n",
    "\n",
    "# generate a random IV for AES encryption, IV size is 128 bits (16 bytes).\n",
    "\n",
    "iv = Random.new().read(AES.block_size)"
   ]
  },
  {
   "cell_type": "code",
   "execution_count": 62,
   "metadata": {},
   "outputs": [],
   "source": [
    "# convert the message to bytes.\n",
    "\n",
    "message = message.encode('utf-8')\n",
    "\n",
    "# pad the message to make it a multiple of 16 bytes.\n",
    "\n",
    "def pad(message):\n",
    "    \n",
    "        # pad the message to make it a multiple of 16 bytes.\n",
    "    \n",
    "        while len(message) % 16 != 0:\n",
    "    \n",
    "            message += b' '\n",
    "    \n",
    "        # return the padded message.\n",
    "    \n",
    "        return message\n",
    "\n",
    "# Function to encrypt the message using AES.\n",
    "\n",
    "def encrypt(message, key, iv):\n",
    "    \n",
    "        # pad the message to make it a multiple of 16 bytes.\n",
    "    \n",
    "        message = pad(message)\n",
    "    \n",
    "        # create a cipher object using AES and CBC mode.\n",
    "    \n",
    "        cipher = AES.new(key, AES.MODE_CBC, iv)\n",
    "    \n",
    "        # encrypt the message.\n",
    "    \n",
    "        encrypted_message = cipher.encrypt(message)\n",
    "    \n",
    "        # return the encrypted message.\n",
    "    \n",
    "        return encrypted_message\n"
   ]
  },
  {
   "cell_type": "code",
   "execution_count": 63,
   "metadata": {},
   "outputs": [
    {
     "name": "stdout",
     "output_type": "stream",
     "text": [
      "The message encrypted using AES is:  b'\\xf76\\x95\\\\ae@0;\\x8be\\xcb=z\\x1e\\xceN\\xb6\\xe2]I\\xc5Z\\xe2\\x03\\xdd\\xa7\\xdffr\\xac\\xa2o?Q\\x19\\xce\\xd9\\xbeJ\\xd94\\xf0\\x82G$\\'\\xca\\x7f\"\\x9c\\xb3\\x8e\\xf0\\x8a\\xb1\\xa0X|\\xb7\\xcfk\\xbc\\xcf/3\\x06pW\\x1cL\\xb3\\xc4Lq\\x9f\\x1e\\xe5\\x86\\x12'\n"
     ]
    }
   ],
   "source": [
    "# show the message encrypted using AES.\n",
    "\n",
    "print(\"The message encrypted using AES is: \", encrypt(message, key, iv))"
   ]
  }
 ],
 "metadata": {
  "kernelspec": {
   "display_name": "Python 3.9.7 64-bit",
   "language": "python",
   "name": "python3"
  },
  "language_info": {
   "codemirror_mode": {
    "name": "ipython",
    "version": 3
   },
   "file_extension": ".py",
   "mimetype": "text/x-python",
   "name": "python",
   "nbconvert_exporter": "python",
   "pygments_lexer": "ipython3",
   "version": "3.9.7"
  },
  "orig_nbformat": 4,
  "vscode": {
   "interpreter": {
    "hash": "11938c6bc6919ae2720b4d5011047913343b08a43b18698fd82dedb0d4417594"
   }
  }
 },
 "nbformat": 4,
 "nbformat_minor": 2
}
